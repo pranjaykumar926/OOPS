{
 "cells": [
  {
   "cell_type": "markdown",
   "metadata": {},
   "source": [
    "1. Encapsulation (🔒 Data Hiding)\n",
    "Encapsulation means bundling data (attributes) and methods (functions) that operate on the data into a single unit (class). It also restricts direct access to some variables.\n",
    "✅ Use private variables (__var) to hide details."
   ]
  },
  {
   "cell_type": "code",
   "execution_count": 2,
   "metadata": {},
   "outputs": [
    {
     "name": "stdout",
     "output_type": "stream",
     "text": [
      "1500\n"
     ]
    },
    {
     "ename": "AttributeError",
     "evalue": "'BankAccount' object has no attribute '__balance'",
     "output_type": "error",
     "traceback": [
      "\u001b[1;31m---------------------------------------------------------------------------\u001b[0m",
      "\u001b[1;31mAttributeError\u001b[0m                            Traceback (most recent call last)",
      "Cell \u001b[1;32mIn[2], line 14\u001b[0m\n\u001b[0;32m     12\u001b[0m account\u001b[38;5;241m.\u001b[39mdeposit(\u001b[38;5;241m500\u001b[39m)\n\u001b[0;32m     13\u001b[0m \u001b[38;5;28mprint\u001b[39m(account\u001b[38;5;241m.\u001b[39mget_balance())  \u001b[38;5;66;03m# ✅ Output: 1500\u001b[39;00m\n\u001b[1;32m---> 14\u001b[0m \u001b[38;5;28mprint\u001b[39m(\u001b[43maccount\u001b[49m\u001b[38;5;241;43m.\u001b[39;49m\u001b[43m__balance\u001b[49m)  \u001b[38;5;66;03m# ❌ Error (Encapsulation prevents direct access)\u001b[39;00m\n",
      "\u001b[1;31mAttributeError\u001b[0m: 'BankAccount' object has no attribute '__balance'"
     ]
    }
   ],
   "source": [
    "class BankAccount:\n",
    "    def __init__(self, balance):\n",
    "        self.__balance = balance  # Private variable (Encapsulation)\n",
    "\n",
    "    def deposit(self, amount):\n",
    "        self.__balance += amount\n",
    "\n",
    "    def get_balance(self):\n",
    "        return self.__balance  # Controlled access\n",
    "\n",
    "account = BankAccount(1000)\n",
    "account.deposit(500)\n",
    "print(account.get_balance())  # ✅ Output: 1500\n",
    "print(account.__balance)  # ❌ Error (Encapsulation prevents direct access)\n"
   ]
  },
  {
   "cell_type": "markdown",
   "metadata": {},
   "source": [
    "🔹 2. Inheritance (🔄 Code Reusability)\n",
    "Inheritance allows one class to inherit attributes and methods from another class.\n",
    "✅ Use class Child(Parent):"
   ]
  },
  {
   "cell_type": "code",
   "execution_count": null,
   "metadata": {},
   "outputs": [
    {
     "name": "stdout",
     "output_type": "stream",
     "text": [
      "Bark! Bark!\n"
     ]
    }
   ],
   "source": [
    "class Animal:\n",
    "    def speak(self):\n",
    "        return \"I make a sound\"\n",
    "\n",
    "class Dog(Animal):  # 🐶 Dog inherits from Animal\n",
    "    def speak(self):\n",
    "        return \"Bark! Bark!\"\n",
    "\n",
    "d = Dog()\n",
    "print(d.speak())  # ✅ Output: \"Bark! Bark!\"\n"
   ]
  },
  {
   "cell_type": "markdown",
   "metadata": {},
   "source": [
    "🔹 3. Polymorphism (🔁 Multiple Forms)\n",
    "Polymorphism allows methods in different classes to have the same name but different behavior.\n",
    "✅ Method Overriding:"
   ]
  },
  {
   "cell_type": "code",
   "execution_count": 3,
   "metadata": {},
   "outputs": [
    {
     "name": "stdout",
     "output_type": "stream",
     "text": [
      "Sparrow can fly\n",
      "Ostrich cannot fly\n"
     ]
    }
   ],
   "source": [
    "class Bird:\n",
    "    def fly(self):\n",
    "        return \"Some birds can fly\"\n",
    "\n",
    "class Sparrow(Bird):\n",
    "    def fly(self):\n",
    "        return \"Sparrow can fly\"\n",
    "\n",
    "class Ostrich(Bird):\n",
    "    def fly(self):\n",
    "        return \"Ostrich cannot fly\"  # Different behavior\n",
    "\n",
    "birds = [Sparrow(), Ostrich()]\n",
    "for bird in birds:\n",
    "    print(bird.fly())  \n",
    "# ✅ Output:\n",
    "# \"Sparrow can fly\"\n",
    "# \"Ostrich cannot fly\"\n"
   ]
  },
  {
   "cell_type": "markdown",
   "metadata": {},
   "source": [
    "🔹 4. Abstraction (🎭 Hiding Implementation Details)\n",
    "Abstraction means hiding unnecessary details and showing only the relevant parts of an object.\n",
    "✅ Use ABC (Abstract Base Class) from abc module:"
   ]
  },
  {
   "cell_type": "code",
   "execution_count": null,
   "metadata": {},
   "outputs": [
    {
     "name": "stdout",
     "output_type": "stream",
     "text": [
      "Car engine started 🚗\n"
     ]
    }
   ],
   "source": [
    "from abc import ABC, abstractmethod\n",
    "\n",
    "class Vehicle(ABC):\n",
    "    @abstractmethod\n",
    "    def start(self):\n",
    "        pass  # Abstract method (must be implemented in subclass)\n",
    "\n",
    "class Car(Vehicle):\n",
    "    def start(self):\n",
    "        return \"Car engine started 🚗\"\n",
    "\n",
    "c = Car()\n",
    "print(c.start())  # ✅ Output: \"Car engine started 🚗\"\n"
   ]
  }
 ],
 "metadata": {
  "kernelspec": {
   "display_name": "Python 3",
   "language": "python",
   "name": "python3"
  },
  "language_info": {
   "codemirror_mode": {
    "name": "ipython",
    "version": 3
   },
   "file_extension": ".py",
   "mimetype": "text/x-python",
   "name": "python",
   "nbconvert_exporter": "python",
   "pygments_lexer": "ipython3",
   "version": "3.11.1"
  }
 },
 "nbformat": 4,
 "nbformat_minor": 2
}
